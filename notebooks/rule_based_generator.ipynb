{
 "cells": [
  {
   "metadata": {},
   "cell_type": "markdown",
   "source": "[![Open In Colab](https://colab.research.google.com/assets/colab-badge.svg)](https://colab.research.google.com/github/xiptos/generative/blob/main/notebooks/rule_based_generator.ipynb)",
   "id": "ac40100c11973e0b"
  },
  {
   "metadata": {},
   "cell_type": "markdown",
   "source": [
    "# Rule-based Generator\n",
    "\n",
    "## Synthetic Employee Records"
   ],
   "id": "68e8bb99fa4ac8d6"
  },
  {
   "metadata": {},
   "cell_type": "markdown",
   "source": [
    "This example generates employee data while enforcing rules like:\n",
    "* Salary depends on job title\n",
    "* Managers must be at least 30 years old\n",
    "* Employees in _Engineering_ need an email with a specific domain"
   ],
   "id": "45c245f83ab795a9"
  },
  {
   "metadata": {},
   "cell_type": "markdown",
   "source": [
    "__Rule Logic Summary__\n",
    "* Age is constrained by role\n",
    "* Salary is role-dependent\n",
    "* Engineering emails follow a domain rule\n",
    "* Randomness is still used within rule boundaries"
   ],
   "id": "930541e93c3deb74"
  },
  {
   "metadata": {
    "ExecuteTime": {
     "end_time": "2025-04-06T09:31:35.412251Z",
     "start_time": "2025-04-06T09:31:34.559682Z"
    }
   },
   "cell_type": "code",
   "outputs": [],
   "execution_count": 1,
   "source": [
    "import numpy as np\n",
    "import pandas as pd\n",
    "import random\n",
    "from faker import Faker"
   ],
   "id": "a616bad8ab860b19"
  },
  {
   "metadata": {
    "collapsed": true,
    "ExecuteTime": {
     "end_time": "2025-04-06T09:32:49.813123Z",
     "start_time": "2025-04-06T09:32:49.794459Z"
    }
   },
   "cell_type": "code",
   "outputs": [
    {
     "name": "stdout",
     "output_type": "stream",
     "text": [
      "  EmployeeID               Name  Age      Role   Department     Salary  \\\n",
      "0    EMP0001    James Dougherty   22    Intern           HR   15250.11   \n",
      "1    EMP0002        Teresa Berg   31  Engineer  Engineering   55581.52   \n",
      "2    EMP0003          Lisa Gray   30  Director           HR  131589.13   \n",
      "3    EMP0004  Carolyn Blackburn   26  Engineer           HR   70214.21   \n",
      "4    EMP0005       Rachel Joyce   42  Director  Engineering  141022.03   \n",
      "\n",
      "                              Email  \n",
      "0              donald23@example.com  \n",
      "1       esummers@engineeringdep.com  \n",
      "2        edwardwilliams@example.org  \n",
      "3         josephandrade@example.com  \n",
      "4  bonillarobert@engineeringdep.com  \n"
     ]
    }
   ],
   "execution_count": 3,
   "source": [
    "fake = Faker()\n",
    "random.seed(42)\n",
    "\n",
    "# Define roles and their salary ranges\n",
    "roles = {\n",
    "    \"Intern\": (15000, 25000),\n",
    "    \"Engineer\": (50000, 90000),\n",
    "    \"Manager\": (90000, 130000),\n",
    "    \"Director\": (130000, 180000)\n",
    "}\n",
    "\n",
    "departments = [\"Engineering\", \"HR\", \"Sales\", \"Finance\"]\n",
    "\n",
    "# Rule-based generator\n",
    "def generate_employee(emp_id):\n",
    "    role = random.choice(list(roles.keys()))\n",
    "    salary_range = roles[role]\n",
    "    salary = round(random.uniform(*salary_range), 2)\n",
    "\n",
    "    if role == \"Intern\":\n",
    "        age = random.randint(20, 25)\n",
    "    elif role == \"Manager\":\n",
    "        age = random.randint(30, 50)\n",
    "    else:\n",
    "        age = random.randint(25, 60)\n",
    "\n",
    "    department = random.choice(departments)\n",
    "\n",
    "    if department == \"Engineering\":\n",
    "        email = f\"{fake.user_name()}@engineeringdep.com\"\n",
    "    else:\n",
    "        email = fake.email()\n",
    "\n",
    "    return {\n",
    "        \"EmployeeID\": f\"EMP{emp_id:04d}\",\n",
    "        \"Name\": fake.name(),\n",
    "        \"Age\": age,\n",
    "        \"Role\": role,\n",
    "        \"Department\": department,\n",
    "        \"Salary\": salary,\n",
    "        \"Email\": email\n",
    "    }\n",
    "\n",
    "# Generate dataset\n",
    "num_employees = 50\n",
    "data = [generate_employee(i) for i in range(1, num_employees + 1)]\n",
    "df = pd.DataFrame(data)\n",
    "\n",
    "# Preview\n",
    "print(df.head())\n",
    "\n",
    "# Optionally save\n",
    "# df.to_csv(\"rule_based_employees.csv\", index=False)"
   ],
   "id": "initial_id"
  },
  {
   "metadata": {},
   "cell_type": "code",
   "outputs": [],
   "execution_count": null,
   "source": "",
   "id": "7c2c07cd28014857"
  },
  {
   "metadata": {},
   "cell_type": "code",
   "outputs": [],
   "execution_count": null,
   "source": "",
   "id": "107efa3c23eff599"
  }
 ],
 "metadata": {
  "kernelspec": {
   "display_name": "Python 3",
   "language": "python",
   "name": "python3"
  },
  "language_info": {
   "codemirror_mode": {
    "name": "ipython",
    "version": 2
   },
   "file_extension": ".py",
   "mimetype": "text/x-python",
   "name": "python",
   "nbconvert_exporter": "python",
   "pygments_lexer": "ipython2",
   "version": "2.7.6"
  }
 },
 "nbformat": 4,
 "nbformat_minor": 5
}
