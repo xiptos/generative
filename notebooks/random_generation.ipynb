{
 "cells": [
  {
   "metadata": {},
   "cell_type": "markdown",
   "source": "[![Open In Colab](https://colab.research.google.com/assets/colab-badge.svg)](https://colab.research.google.com/github/xiptos/generative/blob/main/notebooks/random_generation.ipynb)",
   "id": "e3df9817c38f4b2c"
  },
  {
   "metadata": {},
   "cell_type": "markdown",
   "source": [
    "# Random Data Generator\n",
    "\n",
    "## Synthetic Customer Data"
   ],
   "id": "68e8bb99fa4ac8d6"
  },
  {
   "metadata": {},
   "cell_type": "markdown",
   "source": [
    "__Libraries Used__\n",
    "* faker: for realistic names, emails, and countries.\n",
    "* numpy: for generating random numbers.\n",
    "* pandas: to organize the data into a table (DataFrame).\n"
   ],
   "id": "930541e93c3deb74"
  },
  {
   "metadata": {},
   "cell_type": "code",
   "outputs": [],
   "execution_count": null,
   "source": "!pip install faker",
   "id": "8e2e0cbca77b29f"
  },
  {
   "metadata": {},
   "cell_type": "code",
   "outputs": [],
   "execution_count": null,
   "source": [
    "import numpy as np\n",
    "import pandas as pd\n",
    "import random\n",
    "from faker import Faker"
   ],
   "id": "a616bad8ab860b19"
  },
  {
   "metadata": {
    "collapsed": true
   },
   "cell_type": "code",
   "outputs": [],
   "execution_count": null,
   "source": [
    "\n",
    "# Initialize faker\n",
    "fake = Faker()\n",
    "\n",
    "# Set seed for reproducibility\n",
    "np.random.seed(42)\n",
    "random.seed(42)\n",
    "\n",
    "# Define how many records you want\n",
    "num_records = 100\n",
    "\n",
    "# Generate synthetic data\n",
    "data = {\n",
    "    \"CustomerID\": [f\"CUST{1000 + i}\" for i in range(num_records)],\n",
    "    \"Name\": [fake.name() for _ in range(num_records)],\n",
    "    \"Email\": [fake.email() for _ in range(num_records)],\n",
    "    \"Age\": np.random.randint(18, 70, num_records),\n",
    "    \"Country\": [fake.country() for _ in range(num_records)],\n",
    "    \"AnnualSpendUSD\": np.round(np.random.normal(5000, 1500, num_records), 2),\n",
    "    \"IsSubscribed\": np.random.choice([True, False], num_records, p=[0.7, 0.3])\n",
    "}\n",
    "\n",
    "# Create DataFrame\n",
    "df = pd.DataFrame(data)\n",
    "\n",
    "# Show first few rows\n",
    "print(df.head())\n",
    "\n",
    "# Optional: Save to CSV\n",
    "# df.to_csv(\"synthetic_customers.csv\", index=False)"
   ],
   "id": "initial_id"
  }
 ],
 "metadata": {
  "kernelspec": {
   "display_name": "Python 3",
   "language": "python",
   "name": "python3"
  },
  "language_info": {
   "codemirror_mode": {
    "name": "ipython",
    "version": 2
   },
   "file_extension": ".py",
   "mimetype": "text/x-python",
   "name": "python",
   "nbconvert_exporter": "python",
   "pygments_lexer": "ipython2",
   "version": "2.7.6"
  }
 },
 "nbformat": 4,
 "nbformat_minor": 5
}
