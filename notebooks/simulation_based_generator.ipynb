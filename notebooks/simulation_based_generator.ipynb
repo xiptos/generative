{
 "cells": [
  {
   "metadata": {},
   "cell_type": "markdown",
   "source": "[![Open In Colab](https://colab.research.google.com/assets/colab-badge.svg)](https://colab.research.google.com/github/xiptos/generative/blob/main/notebooks/simulation_based_generator.ipynb)",
   "id": "8068a536fcc86c13"
  },
  {
   "metadata": {},
   "cell_type": "markdown",
   "source": "# Simulation-based Generator",
   "id": "fb0de370fada256"
  },
  {
   "metadata": {},
   "cell_type": "markdown",
   "source": "Simulation-based generators use logic to simulate processes over time, often with queues, events, or agents. The simpy library is great for modeling things like hospitals, factories, or service centers.",
   "id": "16255fd0c8e7bfc2"
  },
  {
   "metadata": {},
   "cell_type": "markdown",
   "source": "## Patients in a Clinic",
   "id": "68e8bb99fa4ac8d6"
  },
  {
   "metadata": {},
   "cell_type": "markdown",
   "source": [
    "This simulates patients arriving at a clinic, waiting for treatment, and leaving. The simulation generates timestamps and other synthetic data based on event timing:\n",
    "* Patients arriving randomly\n",
    "* Queuing for available doctors\n",
    "* Treatment duration per patient\n",
    "* Generated features: arrival time, wait time, treatment duration, etc."
   ],
   "id": "45c245f83ab795a9"
  },
  {
   "metadata": {},
   "cell_type": "markdown",
   "source": [
    "__Use Cases__\n",
    "* Queuing models in hospitals or banks\n",
    "* Traffic simulations\n",
    "* Customer service call centers\n",
    "* Logistics & warehouse operations"
   ],
   "id": "af0238e257c056f9"
  },
  {
   "metadata": {},
   "cell_type": "code",
   "outputs": [],
   "execution_count": null,
   "source": "!pip install simpy",
   "id": "df6c14b3d7cdfe0"
  },
  {
   "metadata": {
    "ExecuteTime": {
     "end_time": "2025-04-06T09:37:47.736573Z",
     "start_time": "2025-04-06T09:37:47.493028Z"
    }
   },
   "cell_type": "code",
   "outputs": [],
   "execution_count": 2,
   "source": [
    "import simpy\n",
    "import random\n",
    "import pandas as pd"
   ],
   "id": "a616bad8ab860b19"
  },
  {
   "metadata": {
    "collapsed": true,
    "ExecuteTime": {
     "end_time": "2025-04-06T09:37:49.184859Z",
     "start_time": "2025-04-06T09:37:49.175827Z"
    }
   },
   "cell_type": "code",
   "outputs": [
    {
     "name": "stdout",
     "output_type": "stream",
     "text": [
      "     Patient  ArrivalTime  WaitTime  TreatmentStart  TreatmentEnd  \\\n",
      "0  Patient_1            4         0               4            17   \n",
      "1  Patient_2            7         0               7            19   \n",
      "2  Patient_3           13         4              17            25   \n",
      "3  Patient_5           22         3              25            32   \n",
      "4  Patient_4           18         1              19            37   \n",
      "\n",
      "   TreatmentDuration  \n",
      "0                 13  \n",
      "1                 12  \n",
      "2                  8  \n",
      "3                  7  \n",
      "4                 18  \n"
     ]
    }
   ],
   "execution_count": 3,
   "source": [
    "random.seed(42)\n",
    "\n",
    "# Parameters\n",
    "NUM_PATIENTS = 50\n",
    "INTER_ARRIVAL_TIME = (3, 10)  # minutes between arrivals\n",
    "TREATMENT_TIME = (5, 20)      # duration of treatment\n",
    "\n",
    "# Store simulation data\n",
    "records = []\n",
    "\n",
    "def patient(env, name, doctor, records):\n",
    "    arrival_time = env.now\n",
    "    with doctor.request() as request:\n",
    "        yield request\n",
    "        wait_time = env.now - arrival_time\n",
    "        treatment_duration = random.randint(*TREATMENT_TIME)\n",
    "        yield env.timeout(treatment_duration)\n",
    "        records.append({\n",
    "            \"Patient\": name,\n",
    "            \"ArrivalTime\": round(arrival_time, 2),\n",
    "            \"WaitTime\": round(wait_time, 2),\n",
    "            \"TreatmentStart\": round(env.now - treatment_duration, 2),\n",
    "            \"TreatmentEnd\": round(env.now, 2),\n",
    "            \"TreatmentDuration\": treatment_duration\n",
    "        })\n",
    "\n",
    "def patient_generator(env, doctor, records):\n",
    "    for i in range(NUM_PATIENTS):\n",
    "        yield env.timeout(random.randint(*INTER_ARRIVAL_TIME))\n",
    "        env.process(patient(env, f\"Patient_{i+1}\", doctor, records))\n",
    "\n",
    "# Setup environment\n",
    "env = simpy.Environment()\n",
    "doctor = simpy.Resource(env, capacity=2)  # two doctors available\n",
    "env.process(patient_generator(env, doctor, records))\n",
    "env.run()\n",
    "\n",
    "# Create DataFrame\n",
    "df = pd.DataFrame(records)\n",
    "print(df.head())\n",
    "\n",
    "# Optionally save\n",
    "#df.to_csv(\"simulated_clinic_data.csv\", index=False)"
   ],
   "id": "initial_id"
  },
  {
   "metadata": {},
   "cell_type": "code",
   "outputs": [],
   "execution_count": null,
   "source": "",
   "id": "7c2c07cd28014857"
  },
  {
   "metadata": {},
   "cell_type": "code",
   "outputs": [],
   "execution_count": null,
   "source": "",
   "id": "c5760d80b059a5e1"
  }
 ],
 "metadata": {
  "kernelspec": {
   "display_name": "Python 3",
   "language": "python",
   "name": "python3"
  },
  "language_info": {
   "codemirror_mode": {
    "name": "ipython",
    "version": 2
   },
   "file_extension": ".py",
   "mimetype": "text/x-python",
   "name": "python",
   "nbconvert_exporter": "python",
   "pygments_lexer": "ipython2",
   "version": "2.7.6"
  }
 },
 "nbformat": 4,
 "nbformat_minor": 5
}
