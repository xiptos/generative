{
 "cells": [
  {
   "metadata": {},
   "cell_type": "markdown",
   "source": "[![Open In Colab](https://colab.research.google.com/assets/colab-badge.svg)](https://colab.research.google.com/github/xiptos/generative/blob/main/notebooks/filtered_dataset.ipynb)",
   "id": "63fad63f236bcfb"
  },
  {
   "metadata": {},
   "cell_type": "code",
   "outputs": [],
   "execution_count": null,
   "source": [
    "from google.colab import drive\n",
    "drive.mount('/content/gdrive')"
   ],
   "id": "22103beffd9dc4b9"
  },
  {
   "metadata": {},
   "cell_type": "code",
   "outputs": [],
   "execution_count": null,
   "source": "%cd /content/gdrive/MyDrive/synthetic/",
   "id": "210da1d8127e6550"
  },
  {
   "metadata": {},
   "cell_type": "code",
   "outputs": [],
   "execution_count": null,
   "source": "!git clone https://github.com/xiptos/generative.git",
   "id": "87c2832cf6ad61b7"
  },
  {
   "metadata": {},
   "cell_type": "code",
   "outputs": [],
   "execution_count": null,
   "source": "%cd generative/notebooks",
   "id": "1b8375f14127345b"
  },
  {
   "metadata": {},
   "cell_type": "markdown",
   "source": "# Pixelart Dataset",
   "id": "f5514d0468195dd9"
  },
  {
   "metadata": {},
   "cell_type": "code",
   "outputs": [],
   "execution_count": null,
   "source": "!pip install kagglehub",
   "id": "34e513d581967087"
  },
  {
   "metadata": {},
   "cell_type": "code",
   "outputs": [],
   "execution_count": null,
   "source": [
    "from torch.utils.data import DataLoader\n",
    "from torchvision import transforms\n",
    "from matplotlib import pyplot as plt\n",
    "from modules.dataset.pixelart_dataset import PixelartDataset, onehot2label, FilteredDatasetOneHot\n",
    "\n",
    "\n",
    "import numpy as np\n"
   ],
   "id": "ec59639db4a05d0"
  },
  {
   "metadata": {},
   "cell_type": "code",
   "outputs": [],
   "execution_count": null,
   "source": [
    "\n",
    "transform = transforms.Compose([\n",
    "    transforms.ToTensor(),                # from [0,255] to range [0.0,1.0]\n",
    "    transforms.Normalize((0.5,), (0.5,))  # range [-1,1]\n",
    "])"
   ],
   "id": "9a9cc2767f102193"
  },
  {
   "metadata": {
    "collapsed": true
   },
   "cell_type": "code",
   "outputs": [],
   "execution_count": null,
   "source": [
    "\n",
    "dataset = FilteredDatasetOneHot(PixelartDataset(transform=transform), target_classes=[4])\n",
    "print(dataset.__len__())\n",
    "dataloader = DataLoader(dataset, batch_size=32, shuffle=True)"
   ],
   "id": "initial_id"
  },
  {
   "metadata": {},
   "cell_type": "code",
   "outputs": [],
   "execution_count": null,
   "source": [
    "\n",
    "# Obter um batch\n",
    "dataiter = iter(dataloader)\n",
    "images, labels = next(dataiter)\n",
    "\n",
    "# Mostrar imagens individualmente com título\n",
    "def imshow(img, ax, title):\n",
    "    img = img / 2 + 0.5  # desfaz normalização [-1,1] -> [0,1]\n",
    "    npimg = img.numpy()\n",
    "    ax.imshow(np.transpose(npimg, (1, 2, 0)))\n",
    "    ax.set_title(title, fontsize=8)\n",
    "    ax.axis('off')\n",
    "\n",
    "# Definir layout\n",
    "batch_size = images.size(0)\n",
    "cols = 8\n",
    "rows = (batch_size + cols - 1) // cols\n",
    "\n",
    "fig, axs = plt.subplots(rows, cols, figsize=(cols * 2, rows * 2))\n",
    "axs = axs.flatten()\n",
    "\n",
    "for i in range(batch_size):\n",
    "    imshow(images[i], axs[i], onehot2label([labels[i]]))\n",
    "\n",
    "# Remover eixos vazios se o batch for menor que o número de subplots\n",
    "for j in range(i + 1, len(axs)):\n",
    "    axs[j].axis('off')\n",
    "\n",
    "plt.tight_layout()\n",
    "plt.show()"
   ],
   "id": "ff34b034c85e9166"
  },
  {
   "metadata": {},
   "cell_type": "code",
   "outputs": [],
   "execution_count": null,
   "source": "",
   "id": "15a37237c48f7523"
  }
 ],
 "metadata": {
  "kernelspec": {
   "display_name": "Python 3",
   "language": "python",
   "name": "python3"
  },
  "language_info": {
   "codemirror_mode": {
    "name": "ipython",
    "version": 2
   },
   "file_extension": ".py",
   "mimetype": "text/x-python",
   "name": "python",
   "nbconvert_exporter": "python",
   "pygments_lexer": "ipython2",
   "version": "2.7.6"
  }
 },
 "nbformat": 4,
 "nbformat_minor": 5
}
