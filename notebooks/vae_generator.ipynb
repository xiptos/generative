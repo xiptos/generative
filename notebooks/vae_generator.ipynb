{
 "cells": [
  {
   "metadata": {},
   "cell_type": "markdown",
   "source": "[![Open In Colab](https://colab.research.google.com/assets/colab-badge.svg)](https://colab.research.google.com/github/xiptos/generative/blob/main/notebooks/vae_generator.ipynb)",
   "id": "261155e6f1a2b85f"
  },
  {
   "metadata": {},
   "cell_type": "code",
   "source": [
    "from google.colab import drive\n",
    "\n",
    "drive.mount('/content/gdrive')"
   ],
   "id": "589db79e01a9c830",
   "outputs": [],
   "execution_count": null
  },
  {
   "metadata": {},
   "cell_type": "code",
   "source": "%cd /content/gdrive/MyDrive/synthetic/",
   "id": "4d453bfd0c44e3d8",
   "outputs": [],
   "execution_count": null
  },
  {
   "metadata": {},
   "cell_type": "code",
   "source": "!git clone https://github.com/xiptos/generative.git",
   "id": "e0b154db644737b1",
   "outputs": [],
   "execution_count": null
  },
  {
   "metadata": {},
   "cell_type": "code",
   "source": "%cd generative/notebooks",
   "id": "daaaf4ef8808163b",
   "outputs": [],
   "execution_count": null
  },
  {
   "metadata": {},
   "cell_type": "markdown",
   "source": "# Variational Autoencoder for Image Generation",
   "id": "4bbb0108ac11a523"
  },
  {
   "metadata": {
    "collapsed": true
   },
   "cell_type": "code",
   "source": [
    "# based on https://github.com/AntixK/PyTorch-VAE/blob/master/models/vanilla_vae.py\n",
    "import torch\n",
    "from torch.utils.data import DataLoader\n",
    "\n",
    "from modules.dataset.pixelart_dataset import FilteredDatasetOneHot, PixelartDataset\n",
    "from modules.vae.vae import PixelVAE\n",
    "from vae_train import IMAGE_SIZE, LATENT_DIM, transform\n",
    "\n",
    "from modules.dataset.pixelart_dataset import onehot2label\n",
    "import numpy as np\n",
    "\n",
    "import matplotlib.pyplot as plt"
   ],
   "id": "initial_id",
   "outputs": [],
   "execution_count": null
  },
  {
   "metadata": {},
   "cell_type": "code",
   "source": "MODEL_FILE = '../models/vae_model_50.pth'",
   "id": "ee48d217a8512123",
   "outputs": [],
   "execution_count": null
  },
  {
   "metadata": {},
   "cell_type": "code",
   "source": [
    "device = torch.device(\"cuda\" if torch.cuda.is_available() else \"mps\" if torch.backends.mps.is_available() else \"cpu\")\n",
    "\n",
    "dataset = FilteredDatasetOneHot(PixelartDataset(transform=transform), target_classes=[4])\n",
    "loader = DataLoader(dataset=dataset, batch_size=1, shuffle=True)\n",
    "model = PixelVAE(image_size=IMAGE_SIZE, latend_dim=LATENT_DIM).to(device)\n",
    "model.load_state_dict(torch.load(MODEL_FILE, map_location=device))\n",
    "model.eval()\n",
    "\n",
    "for pic, _ in loader:  # batch size is 1, loader is shuffled, so this gets one random pic\n",
    "    pics = pic.to(device)\n",
    "    break\n",
    "orig = torch.clone(pics)\n",
    "\n",
    "for _ in range(1):\n",
    "    recon, mu, log = model(pics)\n",
    "    pic = recon[0].view(1, 3, IMAGE_SIZE, IMAGE_SIZE)\n",
    "    pics = torch.cat((pics, pic), dim=0)\n"
   ],
   "id": "5dac1e2a286e68ce",
   "outputs": [],
   "execution_count": null
  },
  {
   "metadata": {},
   "cell_type": "code",
   "source": [
    "\n",
    "# Mostrar imagens individualmente com título\n",
    "def imshow(img, ax, title):\n",
    "    img = img / 2 + 0.5  # desfaz normalização [-1,1] -> [0,1]\n",
    "    npimg = img.numpy()\n",
    "    ax.imshow(np.transpose(npimg, (1, 2, 0)))\n",
    "    ax.set_title(title, fontsize=8)\n",
    "    ax.axis('off')\n",
    "\n",
    "# Definir layout\n",
    "batch_size = pics.size(0)\n",
    "cols = min(8, batch_size)\n",
    "rows = (batch_size + cols - 1) // cols\n",
    "\n",
    "fig, axs = plt.subplots(rows, cols, figsize=(cols * 2, rows * 2))\n",
    "axs = axs.flatten()\n",
    "\n",
    "for i in range(batch_size):\n",
    "    imshow(pics[i].detach(), axs[i], \"sample\")\n",
    "\n",
    "# Remover eixos vazios se o batch for menor que o número de subplots\n",
    "for j in range(i + 1, len(axs)):\n",
    "    axs[j].axis('off')\n",
    "\n",
    "plt.tight_layout()\n",
    "plt.show()"
   ],
   "id": "faae4c29208d5332",
   "outputs": [],
   "execution_count": null
  },
  {
   "metadata": {},
   "cell_type": "code",
   "source": "",
   "id": "16825ef2da3baa45",
   "outputs": [],
   "execution_count": null
  }
 ],
 "metadata": {
  "kernelspec": {
   "display_name": "Python 3",
   "language": "python",
   "name": "python3"
  },
  "language_info": {
   "codemirror_mode": {
    "name": "ipython",
    "version": 2
   },
   "file_extension": ".py",
   "mimetype": "text/x-python",
   "name": "python",
   "nbconvert_exporter": "python",
   "pygments_lexer": "ipython2",
   "version": "2.7.6"
  }
 },
 "nbformat": 4,
 "nbformat_minor": 5
}
